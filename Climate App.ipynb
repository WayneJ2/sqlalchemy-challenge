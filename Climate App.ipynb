{
 "cells": [
  {
   "cell_type": "code",
   "execution_count": 4,
   "id": "f45065fc",
   "metadata": {},
   "outputs": [],
   "source": [
    "import numpy as np\n",
    "import pandas as pd\n",
    "import datetime as dt\n",
    "\n",
    "import sqlalchemy\n",
    "from sqlalchemy.ext.automap import automap_base\n",
    "from sqlalchemy.orm import Session\n",
    "from sqlalchemy import create_engine, func\n",
    "\n",
    "from flask import Flask, jsonify"
   ]
  },
  {
   "cell_type": "code",
   "execution_count": 12,
   "id": "d597c3ec",
   "metadata": {},
   "outputs": [],
   "source": [
    "# Database Setup\n",
    "database_path = \"./Resources/hawaii.sqlite\"\n",
    "engine = create_engine(f\"sqlite:///{database_path}\", echo=False)\n",
    "\n",
    "# reflect an existing database into a new model\n",
    "Base = automap_base()\n",
    "# reflect the tables\n",
    "Base.prepare(engine, reflect=True)\n",
    "\n",
    "# Save reference to the table\n",
    "Measurements = Base.classes.measurement\n",
    "Stations = Base.classes.station\n",
    "\n",
    "# Flask Setup\n",
    "app = Flask(__name__)\n",
    "session = Session(engine)\n"
   ]
  },
  {
   "cell_type": "code",
   "execution_count": 3,
   "id": "fc4c7e62",
   "metadata": {},
   "outputs": [],
   "source": [
    "# Flask Routes\n",
    "-----------------------------------------------------\n",
    "@app.route(\"/\")\n",
    "def welcome():\n",
    "    \"\"\"List all available api routes.\"\"\"\n",
    "    session = Session(engine)\n",
    "\n",
    "    latestDate = session.query(Measurements.date).order_by(Measurements.date.desc()).first()\n",
    "    earliestDate = session.query(Measurements.date).order_by(Measurements.date).first()\n",
    "   \n",
    "    session.close()\n",
    "    \n",
    "    return (\n",
    "        f\"Available Routes:<br/>\"\n",
    "        f\"&emsp;&emsp;/api/v1.0/precipitation<br/>\"\n",
    "        f\"&emsp;&emsp;/api/v1.0/stations</br>\"\n",
    "        f\"&emsp;&emsp;/api/v1.0/tobs<br/>\"\n",
    "        f\"<br/>\"\n",
    "        f\"Available Date Search Routes:<br/>\"\n",
    "        f\"&emsp;Data Available between:&emsp;{earliestDate[0]}&emsp; to&emsp; {latestDate[0]}<br/>\"\n",
    "        f\"&emsp;*format dates as 'yyyy-mm-dd'*<br/>\"\n",
    "        f\"&emsp;&emsp;/api/v1.0/startdate<br/>\"\n",
    "        f\"&emsp;&emsp;/api/v1.0/startdate/enddate\"\n",
    "    )\n",
    "-----------------------------------------------------\n",
    "@app.route(\"/api/v1.0/precipitation\")\n",
    "def precipitation():\n",
    "    # Create our session (link) from Python to the DB\n",
    "    session = Session(engine)\n",
    "\n",
    "    # Query precipitation data\n",
    "    \n",
    "    query_date = dt.date(2017, 8, 23) - dt.timedelta(days=365)\n",
    "    precipScores = session.query(Measurements.station, Measurements.date, Measurements.prcp).filter(Measurements.date >= query_date).\\\n",
    "    order_by(Measurements.date).all()\n",
    "    session.close()\n",
    "\n",
    "    \n",
    "    prcpScores_df = pd.DataFrame(precipScores, columns=['Stations','Date','Precipitation'])\n",
    "    prcpSums_df = prcpScores_df.groupby(\"Date\").sum()\n",
    "    \n",
    "\n",
    "\n",
    "    # Convert list of tuples into normal list\n",
    "    prcpData = [prcpSums_df.to_dict()]\n",
    "    \n",
    "    return jsonify(prcpData)\n",
    "-----------------------------------------------------\n",
    "@app.route(\"/api/v1.0/stations\")\n",
    "def stations():\n",
    "    # Create our session (link) from Python to the DB\n",
    "    session = Session(engine)\n",
    "\n",
    "    # Query station data \n",
    "    activeStations = session.query(Stations.station,Stations.name,func.count(Measurements.station)).\\\n",
    "        filter(Stations.station == Measurements.station).\\\n",
    "        group_by(Measurements.station).\\\n",
    "        order_by(func.count(Measurements.station).desc()).all()    \n",
    "    \n",
    "    session.close()\n",
    "    \n",
    "    stationList =[]\n",
    "\n",
    "    for station, name, observations in activeStations:\n",
    "        station_dict = {}\n",
    "        station_dict['StationID'] = station\n",
    "        station_dict['Name'] = name\n",
    "        station_dict['Observations'] = observations\n",
    "        stationList.append(station_dict)    \n",
    "    \n",
    "    return jsonify(stationList)\n",
    "-----------------------------------------------------\n",
    "@app.route(\"/api/v1.0/tobs\")\n",
    "def temperature():\n",
    "    # Create our session (link) from Python to the DB\n",
    "    session = Session(engine)\n",
    "    \n",
    "    # Query date\n",
    "    query_date = dt.date(2017, 8, 23) - dt.timedelta(days=365)\n",
    "\n",
    "    # Query to find most active station ID\n",
    "    activeStations =session.query(Stations.station, Stations.name,func.count(Measurements.station)).\\\n",
    "        filter(Stations.station == Measurements.station).\\\n",
    "        group_by(Measurements.station).\\\n",
    "        order_by(func.count(Measurements.station).desc()).all()\n",
    "    \n",
    "    topStation =  [result[0] for result in activeStations][0]\n",
    "    \n",
    "    # Query most active station data \n",
    "    topActive = session.query(Measurements.station, Stations.name, Measurements.date, Measurements.tobs).\\\n",
    "        filter(Stations.station == Measurements.station).\\\n",
    "        filter(Measurements.station == topStation).\\\n",
    "        filter(Measurements.date >= query_date).\\\n",
    "        order_by(Measurements.date).all()\n",
    "    \n",
    "    session.close()\n",
    "\n",
    "    # Create dictionary for temp data of most active station\n",
    "    topActive_df = pd.DataFrame(topActive, columns=[\"StationID\",\"Name\",\"Date\",\"Temperature\"])\n",
    "    stationTemp_dict = topActive_df[[\"Date\",\"Temperature\"]].set_index(\"Date\").to_dict()\n",
    "    stationTemps= stationTemp_dict[\"Temperature\"]\n",
    "    \n",
    "    # Strip most active station name and ID\n",
    "    stationID = [result[0] for result in topActive][1]\n",
    "    stationName = [result[1] for result in topActive][1]\n",
    "    \n",
    "    # Create dictionary for most active station\n",
    "    activeStation = [{\"Name\":stationName,\n",
    "                     \"Station ID\":stationID,\n",
    "                     \"Temperatures\":stationTemps\n",
    "                    }]\n",
    "    \n",
    "    return jsonify(activeStation)\n",
    "-----------------------------------------------------\n",
    "@app.route(\"/api/v1.0/<start>\")\n",
    "def stats_by_start_date(start):\n",
    "    # Create our session (link) from Python to the DB\n",
    "    session = Session(engine)\n",
    "    \n",
    "    # Calculate query date\n",
    "    search = dt.date.fromisoformat(start)\n",
    "\n",
    "    # Query for temp data\n",
    "    stationData = session.query(Measurements.station, Stations.name, Measurements.date, Measurements.tobs).\\\n",
    "        filter(Stations.station == Measurements.station).\\\n",
    "        filter(Measurements.date >= search).\\\n",
    "        order_by(Measurements.date).all()\n",
    "    \n",
    "    session.close()\n",
    "\n",
    "    # Calculate statistics from search\n",
    "    stationData_df = pd.DataFrame(stationData, columns=[\"StationID\",\"Name\",\"Date\",\"Temperature\"])\n",
    "    tests = ['min','max','mean']\n",
    "    stationStats_df = stationData_df.groupby([\"StationID\",\"Name\"]).agg({\"Temperature\":tests}).reset_index() \n",
    "    \n",
    "    # Create dictionary data from search\n",
    "    tempResults = [] \n",
    "    \n",
    "    for x in range(len(stationStats_df)):\n",
    "        stationStats = {}     \n",
    "        stationStats[\"Name\"] = stationStats_df.iloc[x,1]\n",
    "        stationStats[\"Station ID\"] =stationStats_df.iloc[x,0]\n",
    "        stationStats[\"Temperatures\"] = stationStats_df[\"Temperature\"].iloc[x,:].to_dict()\n",
    "        tempResults.append(stationStats)\n",
    "    \n",
    "    return jsonify(tempResults)\n",
    "\n",
    "-----------------------------------------------------\n",
    "\n",
    "@app.route(\"/api/v1.0/<start>/<end>\")\n",
    "def stats_between_dates(start,end):\n"
   ]
  },
  {
   "cell_type": "code",
   "execution_count": null,
   "id": "5353bd90",
   "metadata": {},
   "outputs": [],
   "source": [
    "@app.route(\"/api/v1.0/<start>/<end>\")\n",
    "def stats_between_dates(start,end):\n",
    "    # Create our session (link) from Python to the DB\n",
    "    session = Session(engine)\n",
    "    \n",
    "    # Calculate query date\n",
    "    searchStart = dt.date.fromisoformat(start)\n",
    "    searchEnd = dt.date.fromisoformat(end)\n",
    "    dateTest = startDate <= endDate\n",
    "    \n",
    "    if dateTest == False:\n",
    "        return jsonify({\"ERROR\": \"End date should be greater than start date.\"}), 404\n",
    "        \n",
    "    # Query for temp data\n",
    "    stationData = session.query(Measurements.station, Stations.name, Measurements.date, Measurements.tobs).\\\n",
    "        filter(Stations.station == Measurements.station).\\\n",
    "        filter(Measurements.date >= startDate).\\\n",
    "        filter(Measurements.date <= endDate).\\\n",
    "        order_by(Measurements.date).all()\n",
    "    \n",
    "    session.close()\n",
    "\n",
    "    # Calculate statistics from search\n",
    "    stationData_df = pd.DataFrame(stationData, columns=[\"StationID\",\"Name\",\"Date\",\"Temperature\"])\n",
    "    tests = ['min','max','mean']\n",
    "    stationStats_df = stationData_df.groupby([\"StationID\",\"Name\"]).agg({\"Temperature\":tests}).reset_index() \n",
    "    \n",
    "    # Create dictionary data from search\n",
    "    tempResults = [] \n",
    "    \n",
    "    for x in range(len(stationStats_df)-1):\n",
    "        stationStats = {}     \n",
    "        stationStats[\"Name\"] = stationStats_df.iloc[x,1]\n",
    "        stationStats[\"Station ID\"] =stationStats_df.iloc[x,0]\n",
    "        stationStats[\"Temperatures\"] = stationStats_df[\"Temperature\"].iloc[x,:].to_dict()\n",
    "        tempResults.append(stationStats)\n",
    "    \n",
    "    return jsonify(tempResults)"
   ]
  },
  {
   "cell_type": "code",
   "execution_count": 64,
   "id": "c5d67070",
   "metadata": {},
   "outputs": [],
   "source": [
    "start = f\"2016-08-23\"\n",
    "end =f\"2017-08-23\""
   ]
  },
  {
   "cell_type": "code",
   "execution_count": 84,
   "id": "4baf010f",
   "metadata": {},
   "outputs": [],
   "source": [
    "startDate = dt.date.fromisoformat(start)\n",
    "endDate = dt.date.fromisoformat(end)"
   ]
  },
  {
   "cell_type": "code",
   "execution_count": 86,
   "id": "d705f7ba",
   "metadata": {
    "scrolled": true
   },
   "outputs": [
    {
     "name": "stdout",
     "output_type": "stream",
     "text": [
      "True\n"
     ]
    }
   ],
   "source": [
    "dateTest = startDate <= endDate\n",
    "\n",
    "if dateTest == True:\n",
    "    print(dateTest)"
   ]
  },
  {
   "cell_type": "code",
   "execution_count": 95,
   "id": "5017ce5e",
   "metadata": {},
   "outputs": [
    {
     "data": {
      "text/html": [
       "<div>\n",
       "<style scoped>\n",
       "    .dataframe tbody tr th:only-of-type {\n",
       "        vertical-align: middle;\n",
       "    }\n",
       "\n",
       "    .dataframe tbody tr th {\n",
       "        vertical-align: top;\n",
       "    }\n",
       "\n",
       "    .dataframe thead tr th {\n",
       "        text-align: left;\n",
       "    }\n",
       "</style>\n",
       "<table border=\"1\" class=\"dataframe\">\n",
       "  <thead>\n",
       "    <tr>\n",
       "      <th></th>\n",
       "      <th>StationID</th>\n",
       "      <th>Name</th>\n",
       "      <th colspan=\"3\" halign=\"left\">Temperature</th>\n",
       "    </tr>\n",
       "    <tr>\n",
       "      <th></th>\n",
       "      <th></th>\n",
       "      <th></th>\n",
       "      <th>min</th>\n",
       "      <th>max</th>\n",
       "      <th>mean</th>\n",
       "    </tr>\n",
       "  </thead>\n",
       "  <tbody>\n",
       "    <tr>\n",
       "      <th>0</th>\n",
       "      <td>USC00513117</td>\n",
       "      <td>KANEOHE 838.1, HI US</td>\n",
       "      <td>76.0</td>\n",
       "      <td>76.0</td>\n",
       "      <td>76.0</td>\n",
       "    </tr>\n",
       "    <tr>\n",
       "      <th>1</th>\n",
       "      <td>USC00514830</td>\n",
       "      <td>KUALOA RANCH HEADQUARTERS 886.9, HI US</td>\n",
       "      <td>80.0</td>\n",
       "      <td>80.0</td>\n",
       "      <td>80.0</td>\n",
       "    </tr>\n",
       "    <tr>\n",
       "      <th>2</th>\n",
       "      <td>USC00516128</td>\n",
       "      <td>MANOA LYON ARBO 785.2, HI US</td>\n",
       "      <td>74.0</td>\n",
       "      <td>74.0</td>\n",
       "      <td>74.0</td>\n",
       "    </tr>\n",
       "    <tr>\n",
       "      <th>3</th>\n",
       "      <td>USC00517948</td>\n",
       "      <td>PEARL CITY, HI US</td>\n",
       "      <td>80.0</td>\n",
       "      <td>80.0</td>\n",
       "      <td>80.0</td>\n",
       "    </tr>\n",
       "    <tr>\n",
       "      <th>4</th>\n",
       "      <td>USC00519281</td>\n",
       "      <td>WAIHEE 837.5, HI US</td>\n",
       "      <td>77.0</td>\n",
       "      <td>77.0</td>\n",
       "      <td>77.0</td>\n",
       "    </tr>\n",
       "    <tr>\n",
       "      <th>5</th>\n",
       "      <td>USC00519397</td>\n",
       "      <td>WAIKIKI 717.2, HI US</td>\n",
       "      <td>79.0</td>\n",
       "      <td>81.0</td>\n",
       "      <td>80.0</td>\n",
       "    </tr>\n",
       "    <tr>\n",
       "      <th>6</th>\n",
       "      <td>USC00519523</td>\n",
       "      <td>WAIMANALO EXPERIMENTAL FARM, HI US</td>\n",
       "      <td>80.0</td>\n",
       "      <td>80.0</td>\n",
       "      <td>80.0</td>\n",
       "    </tr>\n",
       "  </tbody>\n",
       "</table>\n",
       "</div>"
      ],
      "text/plain": [
       "     StationID                                    Name Temperature            \n",
       "                                                               min   max  mean\n",
       "0  USC00513117                    KANEOHE 838.1, HI US        76.0  76.0  76.0\n",
       "1  USC00514830  KUALOA RANCH HEADQUARTERS 886.9, HI US        80.0  80.0  80.0\n",
       "2  USC00516128            MANOA LYON ARBO 785.2, HI US        74.0  74.0  74.0\n",
       "3  USC00517948                       PEARL CITY, HI US        80.0  80.0  80.0\n",
       "4  USC00519281                     WAIHEE 837.5, HI US        77.0  77.0  77.0\n",
       "5  USC00519397                    WAIKIKI 717.2, HI US        79.0  81.0  80.0\n",
       "6  USC00519523      WAIMANALO EXPERIMENTAL FARM, HI US        80.0  80.0  80.0"
      ]
     },
     "execution_count": 95,
     "metadata": {},
     "output_type": "execute_result"
    }
   ],
   "source": [
    "stationData = session.query(Measurements.station, Stations.name, Measurements.date, Measurements.tobs).\\\n",
    "        filter(Stations.station == Measurements.station).\\\n",
    "        filter(Measurements.date >= startDate).\\\n",
    "        filter(Measurements.date <= endDate).\\\n",
    "        order_by(Measurements.date).limit(10).all()\n",
    "stationData\n",
    "\n",
    "stationData_df = pd.DataFrame(stationData, columns=[\"StationID\",\"Name\",\"Date\",\"Temperature\"])\n",
    "\n",
    "tests = ['min','max','mean']\n",
    "stationStats_df = stationData_df.groupby([\"StationID\",\"Name\"]).agg({\"Temperature\":tests}).reset_index()\n",
    "stationStats_df"
   ]
  },
  {
   "cell_type": "code",
   "execution_count": 63,
   "id": "a0d49171",
   "metadata": {},
   "outputs": [
    {
     "data": {
      "text/plain": [
       "[{'Name': 'KUALOA RANCH HEADQUARTERS 886.9, HI US',\n",
       "  'Station ID': 'USC00514830',\n",
       "  'Temperatures': {'min': 82.0, 'max': 82.0, 'mean': 82.0}},\n",
       " {'Name': 'MANOA LYON ARBO 785.2, HI US',\n",
       "  'Station ID': 'USC00516128',\n",
       "  'Temperatures': {'min': 76.0, 'max': 76.0, 'mean': 76.0}},\n",
       " {'Name': 'WAIKIKI 717.2, HI US',\n",
       "  'Station ID': 'USC00519397',\n",
       "  'Temperatures': {'min': 81.0, 'max': 81.0, 'mean': 81.0}},\n",
       " {'Name': 'WAIMANALO EXPERIMENTAL FARM, HI US',\n",
       "  'Station ID': 'USC00519523',\n",
       "  'Temperatures': {'min': 82.0, 'max': 82.0, 'mean': 82.0}}]"
      ]
     },
     "execution_count": 63,
     "metadata": {},
     "output_type": "execute_result"
    }
   ],
   "source": [
    "tempResults = [] \n",
    "    \n",
    "for x in range(len(stationStats_df)):\n",
    "    stationStats = {}     \n",
    "    stationStats[\"Name\"] = stationStats_df.iloc[x,1]\n",
    "    stationStats[\"Station ID\"] =stationStats_df.iloc[x,0]\n",
    "    stationStats[\"Temperatures\"] = stationStats_df[\"Temperature\"].iloc[x,:].to_dict()\n",
    "    tempResults.append(stationStats)\n",
    "tempResults"
   ]
  },
  {
   "cell_type": "code",
   "execution_count": 52,
   "id": "771cfb3e",
   "metadata": {},
   "outputs": [
    {
     "data": {
      "text/plain": [
       "'USC00516128'"
      ]
     },
     "execution_count": 52,
     "metadata": {},
     "output_type": "execute_result"
    }
   ],
   "source": [
    "test = stationStats_df[[\"StationID\",\"Temperature\"]]\n",
    "stationStats_df.iloc[2,0]"
   ]
  },
  {
   "cell_type": "code",
   "execution_count": 57,
   "id": "ba1e03a0",
   "metadata": {},
   "outputs": [
    {
     "data": {
      "text/plain": [
       "{'min': 61.0, 'max': 82.0, 'mean': 73.27696793002916}"
      ]
     },
     "execution_count": 57,
     "metadata": {},
     "output_type": "execute_result"
    }
   ],
   "source": [
    "stationStats_df[\"Temperature\"].iloc[0,:].to_dict()"
   ]
  },
  {
   "cell_type": "code",
   "execution_count": 87,
   "id": "0e32f0fb",
   "metadata": {},
   "outputs": [],
   "source": [
    "    latestDate = session.query(Measurements.date).order_by(Measurements.date.desc()).first()\n",
    "    earliestDate = session.query(Measurements.date).order_by(Measurements.date).first()"
   ]
  },
  {
   "cell_type": "code",
   "execution_count": 93,
   "id": "6226a90e",
   "metadata": {},
   "outputs": [
    {
     "data": {
      "text/plain": [
       "'2017-08-23'"
      ]
     },
     "execution_count": 93,
     "metadata": {},
     "output_type": "execute_result"
    }
   ],
   "source": [
    "test = list(latestDate)\n",
    "test[0]"
   ]
  },
  {
   "cell_type": "code",
   "execution_count": 94,
   "id": "c95a786c",
   "metadata": {},
   "outputs": [
    {
     "data": {
      "text/plain": [
       "'2010-01-01'"
      ]
     },
     "execution_count": 94,
     "metadata": {},
     "output_type": "execute_result"
    }
   ],
   "source": [
    "earliestDate[0]"
   ]
  },
  {
   "cell_type": "code",
   "execution_count": null,
   "id": "6318b5bc",
   "metadata": {},
   "outputs": [],
   "source": []
  }
 ],
 "metadata": {
  "kernelspec": {
   "display_name": "Python 3",
   "language": "python",
   "name": "python3"
  },
  "language_info": {
   "codemirror_mode": {
    "name": "ipython",
    "version": 3
   },
   "file_extension": ".py",
   "mimetype": "text/x-python",
   "name": "python",
   "nbconvert_exporter": "python",
   "pygments_lexer": "ipython3",
   "version": "3.8.8"
  }
 },
 "nbformat": 4,
 "nbformat_minor": 5
}
